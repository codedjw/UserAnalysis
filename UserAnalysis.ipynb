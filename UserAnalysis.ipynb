{
 "cells": [
  {
   "cell_type": "code",
   "execution_count": 1,
   "metadata": {
    "collapsed": true
   },
   "outputs": [],
   "source": [
    "import numpy as np\n",
    "import matplotlib.pyplot as plt\n",
    "from matplotlib import offsetbox\n",
    "from sklearn import (manifold, datasets, decomposition, ensemble,\n",
    "                     discriminant_analysis, random_projection)\n",
    "from sklearn.cluster import KMeans, DBSCAN\n",
    "import pandas as pd\n",
    "# 数据库访问\n",
    "import MySQLdb, datetime"
   ]
  },
  {
   "cell_type": "markdown",
   "metadata": {},
   "source": [
    "## 读取数据（user_dim.txt）"
   ]
  },
  {
   "cell_type": "code",
   "execution_count": 25,
   "metadata": {
    "collapsed": false
   },
   "outputs": [],
   "source": [
    "X = np.loadtxt('/Users/dujiawei/git/UserAnalysis/result/user_dim.txt')\n",
    "\n",
    "# 归一化\n",
    "nrow, _ = X.shape\n",
    "for row in xrange(nrow):\n",
    "    X[row] = X[row]/sum(X[row])\n",
    "X = np.vectorize(lambda x: round(x,2))(X)\n",
    "\n",
    "# Open database connection\n",
    "conn = MySQLdb.connect(host='localhost',user='root',passwd='',db='qyw', charset='utf8')\n",
    "c = ['yellowgreen', 'lightskyblue', 'lightcoral', 'gold', 'red']"
   ]
  },
  {
   "cell_type": "markdown",
   "metadata": {},
   "source": [
    "## t-SNE算法降维+DBSCAN聚类（效果最好）"
   ]
  },
  {
   "cell_type": "code",
   "execution_count": 26,
   "metadata": {
    "collapsed": false,
    "scrolled": true
   },
   "outputs": [
    {
     "name": "stdout",
     "output_type": "stream",
     "text": [
      "[0 0 0 0 0 0 0 0 0 0 0 0 0 0 0 0 0 0 0 0 0 0 0 0 0 0 0 0 0 0 0 0 0 0 0 0 0\n",
      " 0 0 0 0 0 0 0 0 0 0 0 0 0 0 0 0 0 0 0 0 0 0 0 0 0 0 0 0 0 0 0 0 0 0 0 0 0\n",
      " 0 0 0 0 0 0 0 0 0 0 0 0 0 0 0 0 0 0 0 0 0 0 0 0 0 0 0 0 0 0 0 0 0 0 0 0 0\n",
      " 0 0 0 0 0 0 0 0 0]\n",
      "1\n",
      "120\n",
      "(120, 2)\n",
      "(120, 2)\n"
     ]
    }
   ],
   "source": [
    "# ###############################################################################\n",
    "# not good\n",
    "# Compute Kmeans\n",
    "# # Visualize the results on PCA-reduced data\n",
    "# tsne = manifold.TSNE(n_components=2, init='pca', random_state=0)\n",
    "# reduced_data = tsne.fit_transform(X)\n",
    "# kmeans = KMeans(init='k-means++', n_clusters=100, n_init=1)\n",
    "# cls = kmeans.fit(reduced_data)\n",
    "# print cls.cluster_centers_\n",
    "# print cls.labels_\n",
    "# print cls.inertia_\n",
    "\n",
    "##############################################################################\n",
    "# Visualize the results on PCA-reduced data\n",
    "tsne = manifold.TSNE(n_components=2, init='pca', random_state=0)\n",
    "reduced_data = tsne.fit_transform(X)\n",
    "plt.scatter(reduced_data[:, 0], reduced_data[:, 1])\n",
    "plt.savefig('result/user_dr_tsne.png')\n",
    "# plt.show()\n",
    "# Compute DBSCAN\n",
    "# db = DBSCAN(eps=12, min_samples=10).fit(reduced_data) # 低维数据\n",
    "db = DBSCAN(eps=4, min_samples=10).fit(X) # 高维数据\n",
    "labels = db.labels_\n",
    "\n",
    "# Number of clusters in labels, ignoring noise if present.\n",
    "n_clusters_ = len(set(labels)) - (1 if -1 in labels else 0)\n",
    "print labels\n",
    "print n_clusters_\n",
    "print len(labels[labels>=0])\n",
    "\n",
    "colors = [c[int(i)] for i in labels]\n",
    "plt.scatter(reduced_data[:, 0], reduced_data[:, 1], 20, colors) # 20为散点的直径\n",
    "plt.savefig('result/user_cluster_dbscan.png')\n",
    "plt.show()\n",
    "plt.cla()\n",
    "plt.clf()\n",
    "plt.close()\n",
    "\n",
    "## 展示用户聚类结果（散点图和excel表格）\n",
    "USERS = np.loadtxt('/Users/dujiawei/git/UserAnalysis/result/user.txt')\n",
    "USERS_CLS =  np.hstack((USERS.reshape(USERS.size, 1),labels.reshape(labels.size,1)))\n",
    "print USERS_CLS.shape\n",
    "np.savetxt('result/user_cls.txt', USERS_CLS, fmt='%d')\n",
    "USERS_CLS_DF = pd.DataFrame(USERS_CLS, columns=['USER_ID', 'CLS_ID'])\n",
    "print USERS_CLS_DF.shape\n",
    "USERS_CLS_DF.to_sql('qyw_7th_user_clusters', conn, flavor='mysql', if_exists='replace', index=False)\n",
    "USERS_CLS_CNTCASE = pd.read_sql('''\n",
    "    SELECT t1.*,\n",
    "       t2.CLS_ID\n",
    "FROM\n",
    "  (SELECT USER_ID,\n",
    "          COUNT(DISTINCT CASE_ID) AS CNT_CASE\n",
    "   FROM qyw_7th_yy_succ_all_selected\n",
    "   GROUP BY USER_ID) AS t1\n",
    "INNER JOIN\n",
    "  (SELECT *\n",
    "   FROM qyw_7th_user_clusters) AS t2 ON t1.USER_ID = t2.USER_ID\n",
    "ORDER BY t1.CNT_CASE DESC;\n",
    "''', con=conn)\n",
    "colors = [c[int(i)] for i in np.array(USERS_CLS_CNTCASE['CLS_ID'])]\n",
    "plt.scatter(USERS_CLS_CNTCASE['CNT_CASE'], USERS_CLS_CNTCASE['USER_ID'], 20, colors) # 20为散点的直径\n",
    "plt.savefig('result/user_cls_cntcase.png')\n",
    "plt.show()\n",
    "plt.cla()\n",
    "plt.clf()\n",
    "plt.close()\n",
    "USERS_CLS_CNTCASE.to_excel('result/user_cls_cntcase.xls')\n",
    "conn.close()"
   ]
  },
  {
   "cell_type": "markdown",
   "metadata": {},
   "source": [
    "## 其他降维算法"
   ]
  },
  {
   "cell_type": "code",
   "execution_count": null,
   "metadata": {
    "collapsed": false
   },
   "outputs": [],
   "source": [
    "#----------------------------------------------------------------------\n",
    "# Random 2D projection using a random unitary matrix\n",
    "print(\"Computing random projection\")\n",
    "rp = random_projection.SparseRandomProjection(n_components=2, random_state=42)\n",
    "X_projected = rp.fit_transform(X)\n",
    "plt.scatter(X_projected[:, 0], X_projected[:, 1])\n",
    "plt.show()"
   ]
  },
  {
   "cell_type": "code",
   "execution_count": null,
   "metadata": {
    "collapsed": false
   },
   "outputs": [],
   "source": [
    "#----------------------------------------------------------------------\n",
    "# Projection on to the first 2 principal components\n",
    "print(\"Computing PCA projection\")\n",
    "X_pca = decomposition.TruncatedSVD(n_components=2).fit_transform(X)\n",
    "plt.scatter(X_pca[:, 0], X_pca[:, 1])\n",
    "plt.show()"
   ]
  },
  {
   "cell_type": "code",
   "execution_count": null,
   "metadata": {
    "collapsed": false
   },
   "outputs": [],
   "source": [
    "#----------------------------------------------------------------------\n",
    "# Isomap projection of the digits dataset\n",
    "print(\"Computing Isomap embedding\")\n",
    "n_neighbors = 3\n",
    "X_iso = manifold.Isomap(n_neighbors, n_components=2).fit_transform(X)\n",
    "print(\"Done.\")\n",
    "plt.scatter(X_iso[:, 0], X_iso[:, 1])\n",
    "plt.show()"
   ]
  },
  {
   "cell_type": "code",
   "execution_count": null,
   "metadata": {
    "collapsed": false
   },
   "outputs": [],
   "source": [
    "#----------------------------------------------------------------------\n",
    "# Locally linear embedding of the digits dataset\n",
    "print(\"Computing LLE embedding\")\n",
    "n_neighbors = 3\n",
    "clf = manifold.LocallyLinearEmbedding(n_neighbors, n_components=2,\n",
    "                                      method='standard')\n",
    "X_lle = clf.fit_transform(X)\n",
    "print(\"Done. Reconstruction error: %g\" % clf.reconstruction_error_)\n",
    "plt.scatter(X_lle[:, 0], X_lle[:, 1])\n",
    "plt.show()"
   ]
  },
  {
   "cell_type": "code",
   "execution_count": null,
   "metadata": {
    "collapsed": false
   },
   "outputs": [],
   "source": [
    "## good\n",
    "#----------------------------------------------------------------------\n",
    "# Modified Locally linear embedding of the digits dataset\n",
    "print(\"Computing modified LLE embedding\")\n",
    "n_neighbors = 3\n",
    "clf = manifold.LocallyLinearEmbedding(n_neighbors, n_components=2,\n",
    "                                      method='modified')\n",
    "X_mlle = clf.fit_transform(X)\n",
    "print(\"Done. Reconstruction error: %g\" % clf.reconstruction_error_)\n",
    "plt.scatter(X_mlle[:, 0], X_mlle[:, 1])\n",
    "plt.show()"
   ]
  },
  {
   "cell_type": "code",
   "execution_count": null,
   "metadata": {
    "collapsed": false
   },
   "outputs": [],
   "source": [
    "## good\n",
    "#----------------------------------------------------------------------\n",
    "# HLLE embedding of the digits dataset\n",
    "print(\"Computing Hessian LLE embedding\")\n",
    "n_neighbors = 6\n",
    "clf = manifold.LocallyLinearEmbedding(n_neighbors, n_components=2,\n",
    "                                      method='hessian')\n",
    "X_hlle = clf.fit_transform(X)\n",
    "print(\"Done. Reconstruction error: %g\" % clf.reconstruction_error_)\n",
    "plt.scatter(X_hlle[:, 0], X_hlle[:, 1])\n",
    "plt.show()"
   ]
  },
  {
   "cell_type": "code",
   "execution_count": null,
   "metadata": {
    "collapsed": false
   },
   "outputs": [],
   "source": [
    "## good\n",
    "#----------------------------------------------------------------------\n",
    "# LTSA embedding of the digits dataset\n",
    "print(\"Computing LTSA embedding\")\n",
    "n_neighbors = 100\n",
    "clf = manifold.LocallyLinearEmbedding(n_neighbors, n_components=2,\n",
    "                                      method='ltsa')\n",
    "X_ltsa = clf.fit_transform(X)\n",
    "print(\"Done. Reconstruction error: %g\" % clf.reconstruction_error_)\n",
    "plt.scatter(X_ltsa[:, 0], X_ltsa[:, 1])\n",
    "plt.show()"
   ]
  },
  {
   "cell_type": "code",
   "execution_count": null,
   "metadata": {
    "collapsed": false
   },
   "outputs": [],
   "source": [
    "## good\n",
    "#----------------------------------------------------------------------\n",
    "# MDS  embedding of the digits dataset\n",
    "print(\"Computing MDS embedding\")\n",
    "clf = manifold.MDS(n_components=2, n_init=1, max_iter=100)\n",
    "X_mds = clf.fit_transform(X)\n",
    "print(\"Done. Stress: %f\" % clf.stress_)\n",
    "plt.scatter(X_mds[:, 0], X_mds[:, 1])\n",
    "plt.show()"
   ]
  },
  {
   "cell_type": "code",
   "execution_count": null,
   "metadata": {
    "collapsed": false
   },
   "outputs": [],
   "source": [
    "## good\n",
    "#----------------------------------------------------------------------\n",
    "# Random Trees embedding of the digits dataset\n",
    "print(\"Computing Totally Random Trees embedding\")\n",
    "hasher = ensemble.RandomTreesEmbedding(n_estimators=200, random_state=0,\n",
    "                                       max_depth=5)\n",
    "X_transformed = hasher.fit_transform(X)\n",
    "pca = decomposition.TruncatedSVD(n_components=2)\n",
    "X_reduced = pca.fit_transform(X_transformed)\n",
    "plt.scatter(X_reduced[:, 0], X_reduced[:, 1])\n",
    "plt.show()"
   ]
  },
  {
   "cell_type": "code",
   "execution_count": null,
   "metadata": {
    "collapsed": false
   },
   "outputs": [],
   "source": [
    "#----------------------------------------------------------------------\n",
    "# Spectral embedding of the digits dataset\n",
    "print(\"Computing Spectral embedding\")\n",
    "embedder = manifold.SpectralEmbedding(n_components=2, random_state=0,\n",
    "                                      eigen_solver=\"arpack\")\n",
    "X_se = embedder.fit_transform(X)\n",
    "plt.scatter(X_se[:, 0], X_se[:, 1])\n",
    "plt.show()"
   ]
  },
  {
   "cell_type": "code",
   "execution_count": null,
   "metadata": {
    "collapsed": false
   },
   "outputs": [],
   "source": [
    "## best\n",
    "#----------------------------------------------------------------------\n",
    "# t-SNE embedding of the digits dataset\n",
    "print(\"Computing t-SNE embedding\")\n",
    "tsne = manifold.TSNE(n_components=2, init='pca', random_state=0)\n",
    "X_tsne = tsne.fit_transform(X)\n",
    "plt.scatter(X_tsne[:, 0], X_tsne[:, 1])\n",
    "plt.show()"
   ]
  }
 ],
 "metadata": {
  "kernelspec": {
   "display_name": "Python 2",
   "language": "python",
   "name": "python2"
  },
  "language_info": {
   "codemirror_mode": {
    "name": "ipython",
    "version": 2
   },
   "file_extension": ".py",
   "mimetype": "text/x-python",
   "name": "python",
   "nbconvert_exporter": "python",
   "pygments_lexer": "ipython2",
   "version": "2.7.10"
  }
 },
 "nbformat": 4,
 "nbformat_minor": 0
}
