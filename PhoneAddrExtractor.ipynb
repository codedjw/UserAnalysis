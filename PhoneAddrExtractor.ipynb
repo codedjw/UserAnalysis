{
 "cells": [
  {
   "cell_type": "code",
   "execution_count": null,
   "metadata": {
    "collapsed": false
   },
   "outputs": [],
   "source": [
    "#!/usr/bin/env python\n",
    "# coding:utf-8\n",
    "\n",
    "# 手机号码归属地查询API调用\n",
    "import urllib2, json\n",
    "\n",
    "def getAreaByPhoneNumV1(phone_num):\n",
    "    if(phone_num):\n",
    "        url = 'http://apis.baidu.com/apistore/mobilenumber/mobilenumber?phone='+phone_num\n",
    "        req = urllib2.Request(url)\n",
    "        \n",
    "        req.add_header('apiKey', 'ff4f9a23b904e94356b0ee6a4d017009')\n",
    "        resp = urllib2.urlopen(req)\n",
    "        content = resp.read()\n",
    "        if(content):\n",
    "            decodejson = json.loads(content)\n",
    "            if decodejson['errNum'] == 0:\n",
    "                return (decodejson['retData']['province'], decodejson['retData']['city'])\n",
    "\n",
    "def getAreaByPhoneNumV2(phone_num):\n",
    "    if(phone_num):\n",
    "        url = 'http://api.k780.com:88/?app=phone.get&phone='+phone_num+'&appkey=10003&sign=b59bc3ef6191eb9f747dd4e83c99f2a4&format=json'\n",
    "        req = urllib2.Request(url)\n",
    "        \n",
    "        resp = urllib2.urlopen(req)\n",
    "        content = resp.read()\n",
    "        if(content):\n",
    "            decodejson = json.loads(content)\n",
    "            if decodejson['success'] == '1':\n",
    "                att = decodejson['result']['att'].split(',')\n",
    "                if len(att) == 3:\n",
    "                    return (att[1], att[2])\n",
    "                elif len(att) == 2:\n",
    "                    return (att[1], att[1])\n",
    "                elif len(att) == 1:\n",
    "                    return (att[0], att[0])\n",
    "\n",
    "# 数据库访问\n",
    "import MySQLdb\n",
    "\n",
    "# Open database connection\n",
    "conn = MySQLdb.connect(host='localhost',user='root',passwd='',db='qyw', charset='utf8')\n",
    "# Prepare a cursor object using cursor() method\n",
    "cur=conn.cursor()\n",
    "\n",
    "try:\n",
    "    # Execute the SQL command\n",
    "#     cur.execute('SELECT DISTINCT PHONE FROM qyw_7th_user WHERE PHONE != \\'\\' AND PROVINCE IS null;')\n",
    "    cur.execute('SELECT DISTINCT PHONE FROM qyw_7th_user WHERE PROVINCE = \\'-\\' OR PROVINCE LIKE \\'%全国%\\';')\n",
    "    # Fetch all the rows in a list of lists\n",
    "    results = cur.fetchall()\n",
    "except MySQLdb.Error, e:\n",
    "    print \"MySQL Error %d: %s\" % (e.args[0], e.args[1])\n",
    "\n",
    "\n",
    "for row in results:\n",
    "    phone_number = row[0]\n",
    "#     ret = getAreaByPhoneNumV1(phone_number)\n",
    "    ret = getAreaByPhoneNumV2(phone_number)\n",
    "    if(ret):\n",
    "        province = ret[0]\n",
    "        city = ret[1]\n",
    "        print province, city\n",
    "        updateSql = 'UPDATE qyw_7th_user SET PROVINCE=\\''+province+'\\', CITY=\\''+city+'\\' WHERE PHONE=\\''+phone_number+'\\';'\n",
    "        print updateSql\n",
    "        try:\n",
    "            # Execute the SQL command\n",
    "            cur.execute(updateSql)\n",
    "            conn.commit()\n",
    "        except:\n",
    "            conn.rollback()\n",
    "\n",
    "# disconnect from server\n",
    "cur.close()\n",
    "conn.close()"
   ]
  },
  {
   "cell_type": "code",
   "execution_count": null,
   "metadata": {
    "collapsed": true
   },
   "outputs": [],
   "source": []
  }
 ],
 "metadata": {
  "kernelspec": {
   "display_name": "Python 2",
   "language": "python",
   "name": "python2"
  },
  "language_info": {
   "codemirror_mode": {
    "name": "ipython",
    "version": 2
   },
   "file_extension": ".py",
   "mimetype": "text/x-python",
   "name": "python",
   "nbconvert_exporter": "python",
   "pygments_lexer": "ipython2",
   "version": "2.7.10"
  }
 },
 "nbformat": 4,
 "nbformat_minor": 0
}
