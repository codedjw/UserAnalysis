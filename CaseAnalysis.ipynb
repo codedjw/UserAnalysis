{
 "cells": [
  {
   "cell_type": "code",
   "execution_count": null,
   "metadata": {
    "collapsed": false
   },
   "outputs": [],
   "source": [
    "import numpy as np\n",
    "import scipy.cluster.hierarchy as hcluster\n",
    "from scipy.cluster.hierarchy import dendrogram, linkage\n",
    "from scipy.spatial.distance import pdist\n",
    "import matplotlib.pyplot as plt"
   ]
  },
  {
   "cell_type": "markdown",
   "metadata": {},
   "source": [
    "## 绘制dendrogram （根据linkage）"
   ]
  },
  {
   "cell_type": "code",
   "execution_count": null,
   "metadata": {
    "collapsed": true
   },
   "outputs": [],
   "source": [
    "def fancy_dendrogram(*args, **kwargs):\n",
    "    max_d = kwargs.pop('max_d', None)\n",
    "    if max_d and 'color_threshold' not in kwargs:\n",
    "        kwargs['color_threshold'] = max_d\n",
    "    annotate_above = kwargs.pop('annotate_above', 0)\n",
    "\n",
    "    ddata = dendrogram(*args, **kwargs)\n",
    "\n",
    "    if not kwargs.get('no_plot', False):\n",
    "        plt.title('Hierarchical Clustering Dendrogram (truncated)')\n",
    "        plt.xlabel('sample index or (cluster size)')\n",
    "        plt.ylabel('distance')\n",
    "        for i, d, c in zip(ddata['icoord'], ddata['dcoord'], ddata['color_list']):\n",
    "            x = 0.5 * sum(i[1:3])\n",
    "            y = d[1]\n",
    "            if y > annotate_above:\n",
    "                plt.plot(x, y, 'o', c=c)\n",
    "                plt.annotate(\"%.3g\" % y, (x, y), xytext=(0, -5),\n",
    "                             textcoords='offset points',\n",
    "                             va='top', ha='center')\n",
    "        if max_d:\n",
    "            plt.axhline(y=max_d, c='k')\n",
    "    return ddata"
   ]
  },
  {
   "cell_type": "markdown",
   "metadata": {},
   "source": [
    "## Case Hierarchy Cluster (Step01 - Ouput: dendrogram)"
   ]
  },
  {
   "cell_type": "code",
   "execution_count": null,
   "metadata": {
    "collapsed": false
   },
   "outputs": [],
   "source": [
    "# 读入Case Similarity Matrix(小数点后两位)\n",
    "case_sim_matrix = np.loadtxt(\"/Users/dujiawei/git/UserAnalysis/result/case_sim.txt\")\n",
    "\n",
    "case_dist_matrix = 1 - case_sim_matrix\n",
    "print case_sim_matrix.mean(), case_sim_matrix.max(), case_sim_matrix.min()\n",
    "print case_dist_matrix.mean(), case_dist_matrix.max(), case_dist_matrix.min()\n",
    "pairwise_dist = []\n",
    "print case_dist_matrix\n",
    "nrow, ncol = case_dist_matrix.shape\n",
    "for i in xrange(nrow):\n",
    "    for j in xrange(i+1,ncol):\n",
    "        pairwise_dist.append(round(case_dist_matrix[i][j],2))\n",
    "linkage_matrix = linkage(pairwise_dist, method='average')\n",
    "plt.figure(figsize=(20,10))\n",
    "max_d = 1.19\n",
    "fancy_dendrogram(\n",
    "    linkage_matrix,\n",
    "    truncate_mode='lastp',\n",
    "    p=30,\n",
    "    leaf_rotation=90.,\n",
    "    leaf_font_size=12.,\n",
    "    show_contracted=True,\n",
    "    annotate_above=0.1,\n",
    "    max_d=max_d,\n",
    ")\n",
    "plt.savefig('result/case_dendrogram.png')\n",
    "plt.show()\n",
    "\n",
    "# last = linkage_matrix[-10:, 2]\n",
    "# last_rev = last[::-1]\n",
    "# idxs = np.arange(1, len(last) + 1)\n",
    "# plt.plot(idxs, last_rev)\n",
    "\n",
    "# acceleration = np.diff(last, 2)  # 2nd derivative of the distances\n",
    "# acceleration_rev = acceleration[::-1]\n",
    "# plt.plot(idxs[:-2] + 1, acceleration_rev)\n",
    "# plt.show()\n",
    "# k = acceleration_rev.argmax() + 2  # if idx 0 is the max of this we want 2 clusters\n",
    "# print \"clusters:\", k"
   ]
  },
  {
   "cell_type": "markdown",
   "metadata": {},
   "source": [
    "## Case Hierarchy Cluster (Step02 - Ouput: Cluster)"
   ]
  },
  {
   "cell_type": "code",
   "execution_count": null,
   "metadata": {
    "collapsed": false
   },
   "outputs": [],
   "source": [
    "# max_d = 0.4775 \n",
    "# cr = 'distance'\n",
    "# # k = 60\n",
    "# # cr = 'maxclust'\n",
    "cr = 'distance'\n",
    "clusters = hcluster.fcluster(linkage_matrix, max_d, criterion=cr) # fcluster取得 <= max_d (dendrogram不太准确，取得是<max_d)\n",
    "# print np.sort(clusters)\n",
    "np.savetxt('result/case_cluster.txt',clusters.reshape(nrow,1), fmt='%d')"
   ]
  },
  {
   "cell_type": "markdown",
   "metadata": {},
   "source": [
    "# Example-01: scipy.cluster.hierarchy.linkage & scipy.spatial.distance.pdist"
   ]
  },
  {
   "cell_type": "code",
   "execution_count": null,
   "metadata": {
    "collapsed": false
   },
   "outputs": [],
   "source": [
    "#open the file assuming the data above is in a file called 'dataFile'\n",
    "inFile = open('dataFile','r')\n",
    "#save the column/row headers (conditions/genes) into an array\n",
    "colHeaders = inFile.next().strip().split()[1:]\n",
    "rowHeaders = []\n",
    "dataMatrix = []\n",
    "\n",
    "for line in inFile:\n",
    "    data = line.strip().split(' ')\n",
    "    rowHeaders.append(data[0])\n",
    "    dataMatrix.append([float(x) for x in data[1:]])\n",
    "\n",
    "#convert native data array into a numpy array\n",
    "dataMatrix = np.array(dataMatrix) \n",
    "distanceMatrix = pdist(dataMatrix)\n",
    "# distanceMatrix = pdist(dataMatrix,'hamming') #use hamming function\n",
    "# distanceMatrix = pdist(dataMatrix,'euclidean') #use euclidean function\n",
    "linkageMatrix = linkage(distanceMatrix, method='single')\n",
    "dataMatrix\n",
    "distanceMatrix\n",
    "linkageMatrix"
   ]
  },
  {
   "cell_type": "markdown",
   "metadata": {},
   "source": [
    "## Example-02: scipy.cluster.hierarchy.linkage & dendrogram（实例）"
   ]
  },
  {
   "cell_type": "code",
   "execution_count": null,
   "metadata": {
    "collapsed": false
   },
   "outputs": [],
   "source": [
    "# generate two clusters: a with 100 points, b with 50:\n",
    "np.random.seed(4711)  # for repeatability of this tutorial\n",
    "a = np.random.multivariate_normal([10, 0], [[3, 1], [1, 4]], size=[100,])\n",
    "b = np.random.multivariate_normal([0, 20], [[3, 1], [1, 4]], size=[50,])\n",
    "X = np.concatenate((a, b),)\n",
    "print X.shape  # 150 samples with 2 dimensions\n",
    "plt.scatter(X[:,0], X[:,1])\n",
    "plt.show()\n",
    "# generate the linkage matrix\n",
    "Z = linkage(X, 'ward')\n",
    "fancy_dendrogram(\n",
    "    Z,\n",
    "    truncate_mode='lastp',\n",
    "    p=12,\n",
    "    leaf_rotation=90.,\n",
    "    leaf_font_size=12.,\n",
    "    show_contracted=True,\n",
    "    annotate_above=10,  # useful in small plots so annotations don't overlap\n",
    ")\n",
    "plt.show()"
   ]
  },
  {
   "cell_type": "code",
   "execution_count": null,
   "metadata": {
    "collapsed": true
   },
   "outputs": [],
   "source": []
  }
 ],
 "metadata": {
  "kernelspec": {
   "display_name": "Python 2",
   "language": "python",
   "name": "python2"
  },
  "language_info": {
   "codemirror_mode": {
    "name": "ipython",
    "version": 2
   },
   "file_extension": ".py",
   "mimetype": "text/x-python",
   "name": "python",
   "nbconvert_exporter": "python",
   "pygments_lexer": "ipython2",
   "version": "2.7.10"
  }
 },
 "nbformat": 4,
 "nbformat_minor": 0
}
